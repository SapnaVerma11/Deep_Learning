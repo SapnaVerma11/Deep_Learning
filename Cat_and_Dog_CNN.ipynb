{
  "nbformat": 4,
  "nbformat_minor": 0,
  "metadata": {
    "colab": {
      "name": "Cat and Dog CNN.ipynb",
      "provenance": []
    },
    "kernelspec": {
      "display_name": "Python 3",
      "name": "python3"
    },
    "language_info": {
      "name": "python"
    },
    "accelerator": "GPU"
  },
  "cells": [
    {
      "cell_type": "code",
      "metadata": {
        "id": "sbIgmKExizjL"
      },
      "source": [
        "#importing the libraries\n",
        "import tensorflow as tf\n",
        "from tensorflow.keras.preprocessing.image import ImageDataGenerator"
      ],
      "execution_count": 15,
      "outputs": []
    },
    {
      "cell_type": "code",
      "metadata": {
        "colab": {
          "base_uri": "https://localhost:8080/",
          "height": 35
        },
        "id": "tEd4IxhujIim",
        "outputId": "4bff3edc-9ed8-4dd8-c591-bab94b14159f"
      },
      "source": [
        "tf.__version__"
      ],
      "execution_count": 16,
      "outputs": [
        {
          "output_type": "execute_result",
          "data": {
            "application/vnd.google.colaboratory.intrinsic+json": {
              "type": "string"
            },
            "text/plain": [
              "'2.4.1'"
            ]
          },
          "metadata": {
            "tags": []
          },
          "execution_count": 16
        }
      ]
    },
    {
      "cell_type": "code",
      "metadata": {
        "colab": {
          "base_uri": "https://localhost:8080/"
        },
        "id": "YP1ZOpO5qORN",
        "outputId": "0a4d8192-8310-43c8-93c0-b7834c3a985d"
      },
      "source": [
        "!nvidia-smi"
      ],
      "execution_count": 4,
      "outputs": [
        {
          "output_type": "stream",
          "text": [
            "Thu Apr 29 03:25:36 2021       \n",
            "+-----------------------------------------------------------------------------+\n",
            "| NVIDIA-SMI 465.19.01    Driver Version: 460.32.03    CUDA Version: 11.2     |\n",
            "|-------------------------------+----------------------+----------------------+\n",
            "| GPU  Name        Persistence-M| Bus-Id        Disp.A | Volatile Uncorr. ECC |\n",
            "| Fan  Temp  Perf  Pwr:Usage/Cap|         Memory-Usage | GPU-Util  Compute M. |\n",
            "|                               |                      |               MIG M. |\n",
            "|===============================+======================+======================|\n",
            "|   0  Tesla T4            Off  | 00000000:00:04.0 Off |                    0 |\n",
            "| N/A   62C    P8    10W /  70W |      0MiB / 15109MiB |      0%      Default |\n",
            "|                               |                      |                  N/A |\n",
            "+-------------------------------+----------------------+----------------------+\n",
            "                                                                               \n",
            "+-----------------------------------------------------------------------------+\n",
            "| Processes:                                                                  |\n",
            "|  GPU   GI   CI        PID   Type   Process name                  GPU Memory |\n",
            "|        ID   ID                                                   Usage      |\n",
            "|=============================================================================|\n",
            "|  No running processes found                                                 |\n",
            "+-----------------------------------------------------------------------------+\n"
          ],
          "name": "stdout"
        }
      ]
    },
    {
      "cell_type": "code",
      "metadata": {
        "id": "dZFCNZjgjP1g"
      },
      "source": [
        "#Data Preprocessing\n",
        "#Preprocessing the Training set\n",
        "train_datagen = ImageDataGenerator(rescale=1./255,horizontal_flip=True,shear_range=0.2,zoom_range=0.2)"
      ],
      "execution_count": 5,
      "outputs": []
    },
    {
      "cell_type": "code",
      "metadata": {
        "colab": {
          "base_uri": "https://localhost:8080/"
        },
        "id": "yqAWv_kMjj61",
        "outputId": "b90e26b9-9461-4cbb-9d44-8b7f37ba9c4c"
      },
      "source": [
        "training_set = train_datagen.flow_from_directory(\"/content/drive/MyDrive/Cat and Dog Training_data/training_set\",\n",
        "                                                 batch_size = 32,\n",
        "                                                 class_mode = 'binary',\n",
        "                                                 target_size = (64,64))"
      ],
      "execution_count": 6,
      "outputs": [
        {
          "output_type": "stream",
          "text": [
            "Found 8015 images belonging to 2 classes.\n"
          ],
          "name": "stdout"
        }
      ]
    },
    {
      "cell_type": "code",
      "metadata": {
        "id": "It7b-HYKj-5p"
      },
      "source": [
        "#Preprocessing the dataset\n",
        "test_datagen = ImageDataGenerator(rescale=1./255)"
      ],
      "execution_count": 7,
      "outputs": []
    },
    {
      "cell_type": "code",
      "metadata": {
        "colab": {
          "base_uri": "https://localhost:8080/"
        },
        "id": "n4slFEhokQO-",
        "outputId": "8e4642bc-98c4-4420-d3a0-ef56b9f76f58"
      },
      "source": [
        "testing_set = test_datagen.flow_from_directory(\"/content/drive/MyDrive/Cat and Dog Test_data/test_set\",\n",
        "                                               target_size = (64,64),\n",
        "                                               batch_size = 32,\n",
        "                                               class_mode = 'binary')"
      ],
      "execution_count": 8,
      "outputs": [
        {
          "output_type": "stream",
          "text": [
            "Found 2023 images belonging to 2 classes.\n"
          ],
          "name": "stdout"
        }
      ]
    },
    {
      "cell_type": "code",
      "metadata": {
        "id": "mE4sQUFoklIr"
      },
      "source": [
        "#importing libraries\n",
        "from tensorflow.keras.models import Sequential\n",
        "from tensorflow.keras.layers import Dense,Flatten,MaxPool2D,Conv2D\n"
      ],
      "execution_count": 9,
      "outputs": []
    },
    {
      "cell_type": "code",
      "metadata": {
        "id": "5cRQr590lkdK"
      },
      "source": [
        "#initialising the CNN\n",
        "cnn = Sequential()\n",
        "# Step1 - Convolution Layer\n",
        "cnn.add(Conv2D(filters=64,kernel_size=3,padding='same',input_shape = [64,64,3],activation='relu'))\n",
        "#Step2- Max Pooling Layer\n",
        "cnn.add(MaxPool2D(pool_size=2,strides=2))\n",
        "#Adding a second convolution layer\n",
        "cnn.add(Conv2D(filters=64,kernel_size=3,activation='relu',padding='same'))\n",
        "cnn.add(MaxPool2D(pool_size=2,strides=2))\n",
        "#Flattening \n",
        "cnn.add(Flatten())\n",
        "# Fully Connected Layer\n",
        "cnn.add(Dense(units=64,activation ='relu'))\n",
        "cnn.add(Dense(units=128,activation='relu'))\n",
        "# output layer\n",
        "cnn.add(Dense(units=1,activation='sigmoid'))"
      ],
      "execution_count": 10,
      "outputs": []
    },
    {
      "cell_type": "code",
      "metadata": {
        "colab": {
          "base_uri": "https://localhost:8080/"
        },
        "id": "4UvYfud7n_5o",
        "outputId": "5c6f44d7-3a0d-49a8-ec48-f4c328b5664f"
      },
      "source": [
        "cnn.summary()"
      ],
      "execution_count": 11,
      "outputs": [
        {
          "output_type": "stream",
          "text": [
            "Model: \"sequential\"\n",
            "_________________________________________________________________\n",
            "Layer (type)                 Output Shape              Param #   \n",
            "=================================================================\n",
            "conv2d (Conv2D)              (None, 64, 64, 64)        1792      \n",
            "_________________________________________________________________\n",
            "max_pooling2d (MaxPooling2D) (None, 32, 32, 64)        0         \n",
            "_________________________________________________________________\n",
            "conv2d_1 (Conv2D)            (None, 32, 32, 64)        36928     \n",
            "_________________________________________________________________\n",
            "max_pooling2d_1 (MaxPooling2 (None, 16, 16, 64)        0         \n",
            "_________________________________________________________________\n",
            "flatten (Flatten)            (None, 16384)             0         \n",
            "_________________________________________________________________\n",
            "dense (Dense)                (None, 64)                1048640   \n",
            "_________________________________________________________________\n",
            "dense_1 (Dense)              (None, 128)               8320      \n",
            "_________________________________________________________________\n",
            "dense_2 (Dense)              (None, 1)                 129       \n",
            "=================================================================\n",
            "Total params: 1,095,809\n",
            "Trainable params: 1,095,809\n",
            "Non-trainable params: 0\n",
            "_________________________________________________________________\n"
          ],
          "name": "stdout"
        }
      ]
    },
    {
      "cell_type": "code",
      "metadata": {
        "id": "Fc2BBLp8oYKh"
      },
      "source": [
        "#compiling the cnn\n",
        "cnn.compile(optimizer='adam',loss='binary_crossentropy',metrics=['accuracy'])"
      ],
      "execution_count": 12,
      "outputs": []
    },
    {
      "cell_type": "code",
      "metadata": {
        "colab": {
          "base_uri": "https://localhost:8080/"
        },
        "id": "x0NOVOCRpW-G",
        "outputId": "0e936b68-78ba-4503-9bbc-6c39a4286f2b"
      },
      "source": [
        "# Training the CNN on the Training set and evaluating it on the Test set\n",
        "cnn.fit(x=training_set,validation_data=testing_set,epochs=10,batch_size=100)"
      ],
      "execution_count": 14,
      "outputs": [
        {
          "output_type": "stream",
          "text": [
            "Epoch 1/10\n",
            "251/251 [==============================] - 1407s 6s/step - loss: 0.6407 - accuracy: 0.6388 - val_loss: 0.6739 - val_accuracy: 0.6159\n",
            "Epoch 2/10\n",
            "251/251 [==============================] - 39s 155ms/step - loss: 0.5906 - accuracy: 0.6877 - val_loss: 0.5954 - val_accuracy: 0.6742\n",
            "Epoch 3/10\n",
            "251/251 [==============================] - 39s 156ms/step - loss: 0.5569 - accuracy: 0.7090 - val_loss: 0.5541 - val_accuracy: 0.7133\n",
            "Epoch 4/10\n",
            "251/251 [==============================] - 39s 154ms/step - loss: 0.5225 - accuracy: 0.7340 - val_loss: 0.5315 - val_accuracy: 0.7469\n",
            "Epoch 5/10\n",
            "251/251 [==============================] - 39s 155ms/step - loss: 0.5014 - accuracy: 0.7506 - val_loss: 0.4971 - val_accuracy: 0.7612\n",
            "Epoch 6/10\n",
            "251/251 [==============================] - 39s 154ms/step - loss: 0.4823 - accuracy: 0.7674 - val_loss: 0.5157 - val_accuracy: 0.7499\n",
            "Epoch 7/10\n",
            "251/251 [==============================] - 39s 154ms/step - loss: 0.4608 - accuracy: 0.7778 - val_loss: 0.4812 - val_accuracy: 0.7726\n",
            "Epoch 8/10\n",
            "251/251 [==============================] - 39s 154ms/step - loss: 0.4477 - accuracy: 0.7901 - val_loss: 0.4836 - val_accuracy: 0.7820\n",
            "Epoch 9/10\n",
            "251/251 [==============================] - 39s 154ms/step - loss: 0.4338 - accuracy: 0.7955 - val_loss: 0.4738 - val_accuracy: 0.7795\n",
            "Epoch 10/10\n",
            "251/251 [==============================] - 39s 154ms/step - loss: 0.4214 - accuracy: 0.8016 - val_loss: 0.4857 - val_accuracy: 0.7746\n"
          ],
          "name": "stdout"
        },
        {
          "output_type": "execute_result",
          "data": {
            "text/plain": [
              "<tensorflow.python.keras.callbacks.History at 0x7f62be306110>"
            ]
          },
          "metadata": {
            "tags": []
          },
          "execution_count": 14
        }
      ]
    },
    {
      "cell_type": "code",
      "metadata": {
        "colab": {
          "base_uri": "https://localhost:8080/"
        },
        "id": "HQHi-skDqFIP",
        "outputId": "03dd53c1-a8f9-4d03-b5ee-cb47b69faf4e"
      },
      "source": [
        "# Making a single prediction \n",
        "import numpy as np \n",
        "from tensorflow.keras.preprocessing import image\n",
        "test_image = image.load_img(\"/content/drive/MyDrive/Cat and Dog Test_data/test_set/cats/cat.4003.jpg\",target_size = (64,64))\n",
        "test_image = image.img_to_array(test_image)\n",
        "test_image=test_image/255\n",
        "test_image = np.expand_dims(test_image, axis = 0)\n",
        "result = cnn.predict(test_image)\n",
        "result"
      ],
      "execution_count": 36,
      "outputs": [
        {
          "output_type": "execute_result",
          "data": {
            "text/plain": [
              "array([[0.2773221]], dtype=float32)"
            ]
          },
          "metadata": {
            "tags": []
          },
          "execution_count": 36
        }
      ]
    },
    {
      "cell_type": "code",
      "metadata": {
        "colab": {
          "base_uri": "https://localhost:8080/"
        },
        "id": "sRakAIMKB4M7",
        "outputId": "ca3930ef-d89d-4f08-9eb7-370f11adcad2"
      },
      "source": [
        "if result[0]<=0.5:\n",
        "    print(\"The image classified is cat\")\n",
        "else:\n",
        "    print(\"The image classified is dog\")"
      ],
      "execution_count": 37,
      "outputs": [
        {
          "output_type": "stream",
          "text": [
            "The image classified is cat\n"
          ],
          "name": "stdout"
        }
      ]
    },
    {
      "cell_type": "code",
      "metadata": {
        "colab": {
          "base_uri": "https://localhost:8080/"
        },
        "id": "1Wq1N7RZ7faP",
        "outputId": "f15a3176-eb8c-451d-acf5-fb28eb772175"
      },
      "source": [
        "# Making a single prediction \n",
        "import numpy as np \n",
        "from tensorflow.keras.preprocessing import image\n",
        "test_image = image.load_img(\"/content/drive/MyDrive/Cat and Dog Test_data/test_set/dogs/dog.4005.jpg\",target_size = (64,64))\n",
        "test_image = image.img_to_array(test_image)\n",
        "test_image=test_image/255\n",
        "test_image = np.expand_dims(test_image, axis = 0)\n",
        "result = cnn.predict(test_image)\n",
        "result"
      ],
      "execution_count": 38,
      "outputs": [
        {
          "output_type": "execute_result",
          "data": {
            "text/plain": [
              "array([[0.9364196]], dtype=float32)"
            ]
          },
          "metadata": {
            "tags": []
          },
          "execution_count": 38
        }
      ]
    },
    {
      "cell_type": "code",
      "metadata": {
        "colab": {
          "base_uri": "https://localhost:8080/"
        },
        "id": "tLEQmJuj79HA",
        "outputId": "a46ed8f2-a576-4eb2-bc5b-6a9613bbf7c2"
      },
      "source": [
        "if result[0]<=0.5:\n",
        "    print(\"The image classified is cat\")\n",
        "else:\n",
        "    print(\"The image classified is dog\")"
      ],
      "execution_count": 39,
      "outputs": [
        {
          "output_type": "stream",
          "text": [
            "The image classified is dog\n"
          ],
          "name": "stdout"
        }
      ]
    }
  ]
}